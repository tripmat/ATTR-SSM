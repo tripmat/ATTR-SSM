{
  "nbformat": 4,
  "nbformat_minor": 5,
  "metadata": {
    "colab": {
      "name": "ATTR-SSM Colab Quickstart",
      "provenance": []
    },
    "kernelspec": {
      "name": "python3",
      "display_name": "Python 3"
    },
    "accelerator": "GPU"
  },
  "cells": [
    {
      "cell_type": "markdown",
      "metadata": {
        "id": "intro"
      },
      "source": [
        "# ATTR-SSM Colab Quickstart\n",
        "\n",
        "- Use Runtime → Change runtime type → GPU for best speed.\n",
        "- The script now supports an optional `--device` flag.\n",
        "  - `--device auto` prefers CUDA → MPS → CPU automatically.\n"
      ]
    },
    {
      "cell_type": "code",
      "metadata": {
        "id": "env-check"
      },
      "execution_count": null,
      "outputs": [],
      "source": [
        "import torch, platform\n",
        "print('Python:', platform.python_version())\n",
        "print('PyTorch:', torch.__version__)\n",
        "print('CUDA available:', torch.cuda.is_available())\n",
        "if torch.cuda.is_available():\n",
        "    print('CUDA device:', torch.cuda.get_device_name(0))\n",
        "else:\n",
        "    mps_ok = getattr(torch.backends, 'mps', None)\n",
        "    print('MPS available:', bool(mps_ok and mps_ok.is_available()))\n"
      ]
    },
    {
      "cell_type": "code",
      "metadata": {
        "id": "install-setup"
      },
      "execution_count": null,
      "outputs": [],
      "source": [
        "# Install PyTorch (CUDA 12.1 wheel) and project deps\n",
        "!pip -q install torch==2.2.2 torchvision==0.17.2 --index-url https://download.pytorch.org/whl/cu121\n",
        "\n",
        "# Clone the repo if not already present and install requirements\n",
        "import os\n",
        "if not os.path.exists('ATTR-SSM'):\n",
        "    !git clone https://github.com/tripmat/ATTR-SSM.git\n",
        "%cd ATTR-SSM\n",
        "!pip -q install -r requirements.txt --no-deps\n",
        "!mkdir -p results experiments\n"
      ]
    },
    {
      "cell_type": "code",
      "metadata": {
        "id": "quick-run"
      },
      "execution_count": null,
      "outputs": [],
      "source": [
        "# Quick sanity run (uses sample data to generate figures)\n",
        "!python main.py --device auto --plot-only\n"
      ]
    },
    {
      "cell_type": "markdown",
      "metadata": {
        "id": "train"
      },
      "source": [
        "## Optional: Train on GPU\n",
        "Run the full training (can be time-consuming):\n",
        "\n",
        "```bash\n",
        "python main.py --device auto --train-only\n",
        "```\n"
      ]
    }
  ]
}

