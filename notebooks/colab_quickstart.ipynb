{
  "nbformat": 4,
  "nbformat_minor": 5,
  "metadata": {
    "colab": {
      "name": "ATTR-SSM Colab Quickstart",
      "provenance": []
    },
    "kernelspec": {
      "name": "python3",
      "display_name": "Python 3"
    },
    "accelerator": "GPU"
  },
  "cells": [
    {
      "cell_type": "markdown",
      "metadata": {
        "id": "intro"
      },
      "source": [
        "# ATTR-SSM Colab Quickstart\n",
        "\n",
        "- Use Runtime \u2192 Change runtime type \u2192 GPU for best speed.\n",
        "- The script now supports an optional `--device` flag.\n",
        "  - `--device auto` prefers CUDA \u2192 MPS \u2192 CPU automatically.\n"
      ]
    },
    {
      "cell_type": "code",
      "metadata": {
        "id": "env-check"
      },
      "execution_count": null,
      "outputs": [],
      "source": [
        "import torch, platform\n",
        "print('Python:', platform.python_version())\n",
        "print('PyTorch:', torch.__version__)\n",
        "print('CUDA available:', torch.cuda.is_available())\n",
        "if torch.cuda.is_available():\n",
        "    print('CUDA device:', torch.cuda.get_device_name(0))\n",
        "else:\n",
        "    mps_ok = getattr(torch.backends, 'mps', None)\n",
        "    print('MPS available:', bool(mps_ok and mps_ok.is_available()))\n"
      ]
    },
    {
      "cell_type": "code",
      "metadata": {
        "id": "install-setup"
      },
      "execution_count": null,
      "outputs": [],
      "source": [
        "# Clean Torch triple and install CUDA 12.1 wheels\n",
        "%pip -q uninstall -y torch torchvision torchaudio\n",
        "%pip -q install -U pip setuptools wheel\n",
        "%pip -q install torch==2.2.2 torchvision==0.17.2 torchaudio==2.2.2 --index-url https://download.pytorch.org/whl/cu121\n",
        "\n",
        "# Install project dependencies with wheel-friendly versions for Colab (avoid building from source)\n",
        "%pip -q install \"numpy>=1.26,<2.0\" \"scipy>=1.11,<2.0\" \"pandas>=2.1,<2.3\" \"matplotlib>=3.8,<3.9\" \\\n",
        "  \"scikit-learn>=1.3,<1.5\" seaborn==0.13.2 tqdm==4.67.1 einops==0.8.1 \\\n",
        "  transformers==4.46.3 huggingface-hub==0.34.4 tokenizers==0.20.3 safetensors==0.5.3 \\\n",
        "  PyYAML==6.0.2 requests==2.32.4 fsspec==2024.6.1 typing_extensions==4.12.2 joblib==1.4.2 \\\n",
        "  regex==2024.11.6 packaging==25.0 filelock==3.13.1 sympy==1.13.3 \"networkx>=3,<4\"\n",
        "\n",
        "# Clone the repo and prepare folders\n",
        "import os\n",
        "if not os.path.exists('ATTR-SSM'):\n",
        "    !git clone https://github.com/tripmat/ATTR-SSM.git\n",
        "%cd ATTR-SSM\n",
        "!mkdir -p results experiments\n"
      ]
    },
    {
      "cell_type": "code",
      "metadata": {
        "id": "quick-run"
      },
      "execution_count": null,
      "outputs": [],
      "source": [
        "# Quick sanity run (uses sample data to generate figures)\n",
        "!python main.py --device auto --plot-only\n"
      ]
    },
    {
      "cell_type": "code",
      "execution_count": null,
      "metadata": {
        "id": "train-run"
      },
      "outputs": [],
      "source": [
        "# Full training (can take time)\n",
        "!python main.py --device auto --train-only\n"
      ]
    },
    {
      "cell_type": "markdown",
      "metadata": {
        "id": "fallbacks"
      },
      "source": [
        "### Fallbacks\n",
        "- If CUDA 12.1 wheels are unavailable, try CUDA 11.8:\n",
        "  ```bash\n",
        "  %pip -q install torch==2.2.2+cu118 torchvision==0.17.2+cu118 -f https://download.pytorch.org/whl/torch_stable.html\n",
        "  ```\n",
        "- CPU-only:\n",
        "  ```bash\n",
        "  %pip -q install torch==2.2.2+cpu torchvision==0.17.2+cpu -f https://download.pytorch.org/whl/torch_stable.html\n",
        "  !python main.py --device cpu --plot-only\n",
        "  ```\n"
      ]
    },
    {
      "cell_type": "markdown",
      "metadata": {
        "id": "train"
      },
      "source": [
        "## Optional: Train on GPU\n",
        "Run the full training (can be time-consuming):\n",
        "\n",
        "```bash\n",
        "python main.py --device auto --train-only\n",
        "```\n"
      ]
    }
  ]
}